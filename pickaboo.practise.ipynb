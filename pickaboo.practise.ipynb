{
 "cells": [
  {
   "cell_type": "code",
   "execution_count": null,
   "id": "80950add-7787-4113-ab56-87e763b145e1",
   "metadata": {},
   "outputs": [],
   "source": [
    "!pip install selenium #import the library\n",
    "!pip install webdriver_manager\n",
    "!pip install pandas\n",
    "from selenium import webdriver#define driver\n",
    "from webdriver_manager.chrome import ChromeDriverManager\n",
    "import pandas as pd "
   ]
  },
  {
   "cell_type": "code",
   "execution_count": 2,
   "id": "df52fdaf-4062-4ed2-bf4f-0b293c91b229",
   "metadata": {},
   "outputs": [
    {
     "name": "stderr",
     "output_type": "stream",
     "text": [
      "C:\\Users\\rayha\\AppData\\Local\\Temp\\ipykernel_11580\\1706970677.py:1: DeprecationWarning: executable_path has been deprecated, please pass in a Service object\n",
      "  driver=webdriver.Chrome(ChromeDriverManager().install()) #web driverer vitor chrome browser cl kora\n"
     ]
    }
   ],
   "source": [
    "driver=webdriver.Chrome(ChromeDriverManager().install()) #web driverer vitor chrome browser cl kora \n"
   ]
  },
  {
   "cell_type": "code",
   "execution_count": 3,
   "id": "57726c88-651c-4fd3-9b0c-d8cc51c1596f",
   "metadata": {},
   "outputs": [],
   "source": [
    "url=\"https://www.pickaboo.com/product/television/\"\n",
    "driver.get(url)\n",
    "\n"
   ]
  },
  {
   "cell_type": "code",
   "execution_count": null,
   "id": "72abc017-8088-4464-ad30-a03eb774b31f",
   "metadata": {},
   "outputs": [],
   "source": [
    "for product in range (1,21):\n",
    "            title=driver.find_element('xpath',f'(//p[@class=\"product-title\"])[{product}]').text\n",
    "            price=driver.find_element('xpath',f'(//p[@class=\"product-price\"]/span)[{product}]').text\n",
    "            try :\n",
    "                prvs_price=driver.find_element('xpath',f'(//p[@class=\"product-price\"])[{product}]/s').text\n",
    "            except:\n",
    "                prvs_price=\"None\"\n",
    "            try:\n",
    "                offer=driver.find_element('xpath',f'(//div[@class=\"product-one__single__inner\"])[{product}]/div[@class=\"product-offer\"]').text\n",
    "            except:\n",
    "                offer=\"Not\"\n",
    "            d={\n",
    "                   \"Product_title\":title,\n",
    "                   \"price\":price,\n",
    "                    'old_price':prvs_price,\n",
    "                    \"Discount\":offer\n",
    "\n",
    "\n",
    "                }\n",
    "            print(d)"
   ]
  },
  {
   "cell_type": "code",
   "execution_count": 5,
   "id": "ba353b31-94f6-46d3-9f42-f7df9b69011c",
   "metadata": {},
   "outputs": [
    {
     "data": {
      "text/plain": [
       "4"
      ]
     },
     "execution_count": 5,
     "metadata": {},
     "output_type": "execute_result"
    }
   ],
   "source": [
    "len(d)"
   ]
  },
  {
   "cell_type": "code",
   "execution_count": 9,
   "id": "2b1c5150-d03b-4014-8fd4-40374d869239",
   "metadata": {},
   "outputs": [],
   "source": [
    "data=[]\n",
    "for page in range(8):\n",
    "    url=\"https://www.pickaboo.com/product/television/\"\n",
    "    driver.get(url)\n",
    "    for product in range (1,21):\n",
    "        title=driver.find_element('xpath',f'(//p[@class=\"product-title\"])[{product}]').text\n",
    "        price=driver.find_element('xpath',f'(//p[@class=\"product-price\"]/span)[{product}]').text\n",
    "        try :\n",
    "            prvs_price=driver.find_element('xpath',f'(//p[@class=\"product-price\"])[{product}]/s').text\n",
    "        except :\n",
    "            prvs_price=\"None\"\n",
    "        try:\n",
    "            offer=driver.find_element('xpath',f'(//div[@class=\"product-one__single__inner\"])[{product}]/div[@class=\"product-offer\"]').text\n",
    "        except:            \n",
    "            offer=\"Not\"\n",
    "        d={\n",
    "            \"Product_title\":title,\n",
    "             \"price\":price,\n",
    "            'old_price':prvs_price,\n",
    "             \"Discount\":offer\n",
    "         }\n",
    "\n",
    "        data.append(d)\n",
    "driver.find_element('xpath','//button[@aria-label=\"Go to next page\"]').click()\n",
    "    \n",
    "\n",
    "\n",
    "        "
   ]
  },
  {
   "cell_type": "code",
   "execution_count": 7,
   "id": "cde5bff7-4812-4cb1-8158-66b78761c7f4",
   "metadata": {},
   "outputs": [
    {
     "data": {
      "text/plain": [
       "160"
      ]
     },
     "execution_count": 7,
     "metadata": {},
     "output_type": "execute_result"
    }
   ],
   "source": [
    "len(data)"
   ]
  },
  {
   "cell_type": "code",
   "execution_count": 12,
   "id": "1f6889d3-365e-4709-af83-dd0e0647596c",
   "metadata": {},
   "outputs": [
    {
     "data": {
      "text/html": [
       "<div>\n",
       "<style scoped>\n",
       "    .dataframe tbody tr th:only-of-type {\n",
       "        vertical-align: middle;\n",
       "    }\n",
       "\n",
       "    .dataframe tbody tr th {\n",
       "        vertical-align: top;\n",
       "    }\n",
       "\n",
       "    .dataframe thead th {\n",
       "        text-align: right;\n",
       "    }\n",
       "</style>\n",
       "<table border=\"1\" class=\"dataframe\">\n",
       "  <thead>\n",
       "    <tr style=\"text-align: right;\">\n",
       "      <th></th>\n",
       "      <th>Product_title</th>\n",
       "      <th>price</th>\n",
       "      <th>old_price</th>\n",
       "      <th>Discount</th>\n",
       "    </tr>\n",
       "  </thead>\n",
       "  <tbody>\n",
       "    <tr>\n",
       "      <th>0</th>\n",
       "      <td>Haier 65\" Bezel-Less 4K HQLED Google Android 1...</td>\n",
       "      <td>৳99,900</td>\n",
       "      <td>৳129,900</td>\n",
       "      <td>-24%</td>\n",
       "    </tr>\n",
       "    <tr>\n",
       "      <th>1</th>\n",
       "      <td>Haier 55\" Bezel Less 4K HQLED Google Android 1...</td>\n",
       "      <td>৳80,900</td>\n",
       "      <td>৳104,900</td>\n",
       "      <td>-23%</td>\n",
       "    </tr>\n",
       "    <tr>\n",
       "      <th>2</th>\n",
       "      <td>Vision G3S Galaxy Pro 55\" 4K LED Google Androi...</td>\n",
       "      <td>৳84,400</td>\n",
       "      <td>None</td>\n",
       "      <td>Not</td>\n",
       "    </tr>\n",
       "    <tr>\n",
       "      <th>3</th>\n",
       "      <td>Vision E3S 43\" LED Android FHD Infinity TV</td>\n",
       "      <td>৳43,900</td>\n",
       "      <td>None</td>\n",
       "      <td>Not</td>\n",
       "    </tr>\n",
       "    <tr>\n",
       "      <th>4</th>\n",
       "      <td>Vision E20 32\" LED Android Smart Infinity TV</td>\n",
       "      <td>৳29,500</td>\n",
       "      <td>None</td>\n",
       "      <td>Not</td>\n",
       "    </tr>\n",
       "    <tr>\n",
       "      <th>...</th>\n",
       "      <td>...</td>\n",
       "      <td>...</td>\n",
       "      <td>...</td>\n",
       "      <td>...</td>\n",
       "    </tr>\n",
       "    <tr>\n",
       "      <th>155</th>\n",
       "      <td>Samsung 65QN90B Neo 65” QLED 4K Smart TV (2022)</td>\n",
       "      <td>৳260,900</td>\n",
       "      <td>৳280,900</td>\n",
       "      <td>-8%</td>\n",
       "    </tr>\n",
       "    <tr>\n",
       "      <th>156</th>\n",
       "      <td>Samsung 55QN90B Neo 55” QLED 4K Smart TV (2022)</td>\n",
       "      <td>৳193,990</td>\n",
       "      <td>৳213,900</td>\n",
       "      <td>-10%</td>\n",
       "    </tr>\n",
       "    <tr>\n",
       "      <th>157</th>\n",
       "      <td>Samsung 75QN85B Neo 75” QLED 4K Smart TV (2022)</td>\n",
       "      <td>৳327,490</td>\n",
       "      <td>৳347,900</td>\n",
       "      <td>-6%</td>\n",
       "    </tr>\n",
       "    <tr>\n",
       "      <th>158</th>\n",
       "      <td>Samsung 65QN85B Neo 65” QLED 4K Smart TV (2022)</td>\n",
       "      <td>৳205,390</td>\n",
       "      <td>৳225,900</td>\n",
       "      <td>-10%</td>\n",
       "    </tr>\n",
       "    <tr>\n",
       "      <th>159</th>\n",
       "      <td>Samsung 55QN85B Neo 55” QLED 4K Smart TV (2022)</td>\n",
       "      <td>৳155,390</td>\n",
       "      <td>৳175,900</td>\n",
       "      <td>-12%</td>\n",
       "    </tr>\n",
       "  </tbody>\n",
       "</table>\n",
       "<p>160 rows × 4 columns</p>\n",
       "</div>"
      ],
      "text/plain": [
       "                                         Product_title     price old_price  \\\n",
       "0    Haier 65\" Bezel-Less 4K HQLED Google Android 1...   ৳99,900  ৳129,900   \n",
       "1    Haier 55\" Bezel Less 4K HQLED Google Android 1...   ৳80,900  ৳104,900   \n",
       "2    Vision G3S Galaxy Pro 55\" 4K LED Google Androi...   ৳84,400      None   \n",
       "3           Vision E3S 43\" LED Android FHD Infinity TV   ৳43,900      None   \n",
       "4         Vision E20 32\" LED Android Smart Infinity TV   ৳29,500      None   \n",
       "..                                                 ...       ...       ...   \n",
       "155    Samsung 65QN90B Neo 65” QLED 4K Smart TV (2022)  ৳260,900  ৳280,900   \n",
       "156    Samsung 55QN90B Neo 55” QLED 4K Smart TV (2022)  ৳193,990  ৳213,900   \n",
       "157    Samsung 75QN85B Neo 75” QLED 4K Smart TV (2022)  ৳327,490  ৳347,900   \n",
       "158    Samsung 65QN85B Neo 65” QLED 4K Smart TV (2022)  ৳205,390  ৳225,900   \n",
       "159    Samsung 55QN85B Neo 55” QLED 4K Smart TV (2022)  ৳155,390  ৳175,900   \n",
       "\n",
       "    Discount  \n",
       "0       -24%  \n",
       "1       -23%  \n",
       "2        Not  \n",
       "3        Not  \n",
       "4        Not  \n",
       "..       ...  \n",
       "155      -8%  \n",
       "156     -10%  \n",
       "157      -6%  \n",
       "158     -10%  \n",
       "159     -12%  \n",
       "\n",
       "[160 rows x 4 columns]"
      ]
     },
     "execution_count": 12,
     "metadata": {},
     "output_type": "execute_result"
    }
   ],
   "source": [
    "df=pd.DataFrame(data)\n",
    "df"
   ]
  },
  {
   "cell_type": "code",
   "execution_count": 13,
   "id": "86d5ad2b-934d-4858-8b0b-cb006dada76c",
   "metadata": {},
   "outputs": [],
   "source": [
    "\n",
    "df.to_csv(\"pickaboo_television.csv\",index=False)"
   ]
  },
  {
   "cell_type": "code",
   "execution_count": null,
   "id": "46628b2c-f99a-45d7-8c2d-603b7a35bb0f",
   "metadata": {},
   "outputs": [],
   "source": []
  }
 ],
 "metadata": {
  "kernelspec": {
   "display_name": "Python 3 (ipykernel)",
   "language": "python",
   "name": "python3"
  },
  "language_info": {
   "codemirror_mode": {
    "name": "ipython",
    "version": 3
   },
   "file_extension": ".py",
   "mimetype": "text/x-python",
   "name": "python",
   "nbconvert_exporter": "python",
   "pygments_lexer": "ipython3",
   "version": "3.9.12"
  }
 },
 "nbformat": 4,
 "nbformat_minor": 5
}
