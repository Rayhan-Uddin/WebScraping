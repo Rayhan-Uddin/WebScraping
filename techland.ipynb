{
 "cells": [
  {
   "cell_type": "code",
   "execution_count": null,
   "id": "f9d5b7b1-a67e-44df-987b-5d58178be393",
   "metadata": {},
   "outputs": [],
   "source": [
    "!pip install selenium"
   ]
  },
  {
   "cell_type": "code",
   "execution_count": null,
   "id": "3c3b90e3-327b-43e1-b73a-c2f8f60fbcc9",
   "metadata": {},
   "outputs": [],
   "source": [
    "!pip install webdriver_manager"
   ]
  },
  {
   "cell_type": "code",
   "execution_count": 3,
   "id": "478fdad0-c1a0-4a6b-8865-39bd2644ed87",
   "metadata": {},
   "outputs": [],
   "source": [
    "from selenium import webdriver\n",
    "from webdriver_manager.chrome import ChromeDriverManager"
   ]
  },
  {
   "cell_type": "code",
   "execution_count": null,
   "id": "b8c9bce0-077c-4dca-bf4a-181240d4b2c1",
   "metadata": {},
   "outputs": [],
   "source": [
    "driver=webdriver.Chrome(ChromeDriverManager().install()) #web driverer vitor chrome browser cl kora "
   ]
  },
  {
   "cell_type": "code",
   "execution_count": 12,
   "id": "5d265a00-2f4c-4764-8517-5474395b56b0",
   "metadata": {},
   "outputs": [],
   "source": [
    "#driver.get(\"pickabo.com\") # run this webstie in chrome driver"
   ]
  },
  {
   "cell_type": "code",
   "execution_count": 13,
   "id": "b1982da8-c11e-4e70-906e-35e76bddb0b9",
   "metadata": {},
   "outputs": [],
   "source": [
    "driver.get(\"https://www.ryanscomputers.com\")\n"
   ]
  },
  {
   "cell_type": "code",
   "execution_count": null,
   "id": "241d5a8c-610d-4f32-a4f5-41dbb59fd0ff",
   "metadata": {},
   "outputs": [],
   "source": [
    "driver.get(\"https://www.ryanscomputers.com/category/laptop-all-laptop\")\n",
    "#driver.find_element(\"xpath\",\"//div/p/a\").text()\n",
    "products=\"//div/p/a\"\n",
    "driver.find_elements('xpath',products)\n",
    "for product in driver.find_elements('xpath',products):\n",
    "    print(product.text)\n",
    "\n"
   ]
  },
  {
   "cell_type": "code",
   "execution_count": 35,
   "id": "4a4119ef-2a52-446c-b2bf-c83a7ce47d24",
   "metadata": {},
   "outputs": [
    {
     "name": "stdout",
     "output_type": "stream",
     "text": [
      "RAM - 4GB\n",
      "RAM - 4GB\n",
      "RAM - 4GB\n",
      "RAM - 4GB\n",
      "RAM - 4GB\n",
      "RAM - 4GB\n",
      "RAM - 4GB\n",
      "RAM - 4GB\n",
      "RAM - 4GB\n",
      "RAM - 4GB\n",
      "RAM - 4GB\n",
      "RAM - 4GB\n",
      "RAM - 4GB\n",
      "RAM - 8GB\n",
      "RAM - 4GB\n",
      "RAM - 4GB\n",
      "RAM - 4GB\n",
      "RAM - 4GB\n",
      "RAM - 4GB\n",
      "RAM - 4GB\n"
     ]
    }
   ],
   "source": [
    "driver.get(\"https://www.ryanscomputers.com/category/laptop-all-laptop\")\n",
    "ram_='(//ul[@class=\"mt-2 mb-2 category-info\"])/li[1]'\n",
    "#driver.find_elements('xpath',RAM)\n",
    "for ram in driver.find_elements('xpath',ram_):\n",
    "    print(ram.text)"
   ]
  },
  {
   "cell_type": "code",
   "execution_count": null,
   "id": "6cf7ca8e-094b-4552-8710-4fae1b9cbba3",
   "metadata": {},
   "outputs": [],
   "source": []
  },
  {
   "cell_type": "code",
   "execution_count": null,
   "id": "95a75f4d-958a-457d-84e5-72947bcba9a0",
   "metadata": {},
   "outputs": [],
   "source": []
  }
 ],
 "metadata": {
  "kernelspec": {
   "display_name": "Python 3 (ipykernel)",
   "language": "python",
   "name": "python3"
  },
  "language_info": {
   "codemirror_mode": {
    "name": "ipython",
    "version": 3
   },
   "file_extension": ".py",
   "mimetype": "text/x-python",
   "name": "python",
   "nbconvert_exporter": "python",
   "pygments_lexer": "ipython3",
   "version": "3.9.12"
  }
 },
 "nbformat": 4,
 "nbformat_minor": 5
}
