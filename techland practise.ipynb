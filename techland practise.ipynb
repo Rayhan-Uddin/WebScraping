{
 "cells": [
  {
   "cell_type": "code",
   "execution_count": null,
   "id": "f9d5b7b1-a67e-44df-987b-5d58178be393",
   "metadata": {},
   "outputs": [],
   "source": [
    "!pip install selenium"
   ]
  },
  {
   "cell_type": "code",
   "execution_count": null,
   "id": "3c3b90e3-327b-43e1-b73a-c2f8f60fbcc9",
   "metadata": {},
   "outputs": [],
   "source": [
    "!pip install webdriver_manager"
   ]
  },
  {
   "cell_type": "code",
   "execution_count": 3,
   "id": "478fdad0-c1a0-4a6b-8865-39bd2644ed87",
   "metadata": {},
   "outputs": [],
   "source": [
    "from selenium import webdriver\n",
    "from webdriver_manager.chrome import ChromeDriverManager"
   ]
  },
  {
   "cell_type": "code",
   "execution_count": 4,
   "id": "b8c9bce0-077c-4dca-bf4a-181240d4b2c1",
   "metadata": {},
   "outputs": [
    {
     "name": "stderr",
     "output_type": "stream",
     "text": [
      "C:\\Users\\rayha\\AppData\\Local\\Temp\\ipykernel_3156\\2275032214.py:1: DeprecationWarning: executable_path has been deprecated, please pass in a Service object\n",
      "  driver=webdriver.Chrome(ChromeDriverManager().install()) #web driverer vitor chrome browser cl kora\n"
     ]
    }
   ],
   "source": [
    "driver=webdriver.Chrome(ChromeDriverManager().install()) #web driverer vitor chrome browser cl kora "
   ]
  },
  {
   "cell_type": "code",
   "execution_count": 5,
   "id": "5d265a00-2f4c-4764-8517-5474395b56b0",
   "metadata": {},
   "outputs": [],
   "source": [
    "#driver.get(\"pickabo.com\") # run this webstie in chrome driver"
   ]
  },
  {
   "cell_type": "code",
   "execution_count": 6,
   "id": "b1982da8-c11e-4e70-906e-35e76bddb0b9",
   "metadata": {},
   "outputs": [],
   "source": [
    "driver.get(\"https://www.ryanscomputers.com\")\n"
   ]
  },
  {
   "cell_type": "code",
   "execution_count": null,
   "id": "241d5a8c-610d-4f32-a4f5-41dbb59fd0ff",
   "metadata": {},
   "outputs": [],
   "source": [
    "driver.get(\"https://www.ryanscomputers.com/category/laptop-all-laptop\")\n",
    "#driver.find_element(\"xpath\",\"//div/p/a\").text()\n",
    "products=\"//div/p/a\"\n",
    "driver.find_elements('xpath',products)\n",
    "for product in driver.find_elements('xpath',products):\n",
    "    print(product.text)\n",
    "\n"
   ]
  },
  {
   "cell_type": "code",
   "execution_count": null,
   "id": "4a4119ef-2a52-446c-b2bf-c83a7ce47d24",
   "metadata": {},
   "outputs": [],
   "source": [
    "driver.get(\"https://www.ryanscomputers.com/category/laptop-all-laptop\")\n",
    "ram_='(//ul[@class=\"mt-2 mb-2 category-info\"])/li[1]'\n",
    "#driver.find_elements('xpath',RAM)\n",
    "for ram in driver.find_elements('xpath',ram_):\n",
    "    print(ram.text)"
   ]
  },
  {
   "cell_type": "code",
   "execution_count": null,
   "id": "6cf7ca8e-094b-4552-8710-4fae1b9cbba3",
   "metadata": {},
   "outputs": [],
   "source": [
    "driver.get(\"https://www.ryanscomputers.com/category/laptop-all-laptop\")\n",
    "rom='(//ul[@class=\"mt-2 mb-2 category-info\"])/li[2]'\n",
    "\n",
    "for storage in driver.find_elements('xpath',rom):\n",
    "    print(storage.text)"
   ]
  },
  {
   "cell_type": "code",
   "execution_count": null,
   "id": "95a75f4d-958a-457d-84e5-72947bcba9a0",
   "metadata": {},
   "outputs": [],
   "source": [
    "Generation='(//ul[@class=\"mt-2 mb-2 category-info\"])/li[3]'\n",
    "for gnrtion in driver.find_elements('xpath',Generation):\n",
    "    print(gnrtion.text)"
   ]
  },
  {
   "cell_type": "code",
   "execution_count": null,
   "id": "010ebaa4-72ed-4a72-bf73-a0d398f6e420",
   "metadata": {},
   "outputs": [],
   "source": [
    "Graphics_Memory='(//ul[@class=\"mt-2 mb-2 category-info\"])/li[4]'\n",
    "for gpu in driver.find_elements('xpath',Graphics_Memory):\n",
    "    print(gpu.text)"
   ]
  },
  {
   "cell_type": "code",
   "execution_count": null,
   "id": "72a27c33-2706-4178-a68b-ea817c3569a6",
   "metadata": {},
   "outputs": [],
   "source": [
    "Processor_Type='(//ul[@class=\"mt-2 mb-2 category-info\"])/li[5]'\n",
    "for processor in driver.find_elements('xpath',Processor_Type):\n",
    "    print(processor.text)"
   ]
  },
  {
   "cell_type": "code",
   "execution_count": null,
   "id": "4ed4dad6-38c4-4682-b769-7276c42ed9ee",
   "metadata": {},
   "outputs": [],
   "source": [
    "Display_Size='(//ul[@class=\"mt-2 mb-2 category-info\"])/li[6]'\n",
    "for display in driver.find_elements('xpath',Display_Size):\n",
    "    print(display.text)"
   ]
  },
  {
   "cell_type": "code",
   "execution_count": null,
   "id": "35fcadbf-eb3b-44a9-abec-7284bd4bcdb2",
   "metadata": {},
   "outputs": [],
   "source": [
    "price='//div/p[@class=\"pr-text cat-sp-text pb-1\"]'\n",
    "for money in driver.find_elements('xpath',price):\n",
    "    print(money.text)"
   ]
  },
  {
   "cell_type": "code",
   "execution_count": null,
   "id": "cf3400ef-d15b-4a95-b2f1-41d6d12d55dc",
   "metadata": {},
   "outputs": [],
   "source": [
    "ecom_discpunt='//div/span[@class=\"fs-text\"]'\n",
    "for discount in driver.find_elements('xpath',ecom_discpunt):\n",
    "    print(discount.text)"
   ]
  },
  {
   "cell_type": "markdown",
   "id": "e890e21d-7b68-4fcb-a0e9-998675bc3ef4",
   "metadata": {},
   "source": [
    "connect all in one "
   ]
  },
  {
   "cell_type": "code",
   "execution_count": 46,
   "id": "8608a03f-e936-4bbb-8463-c77caa4a8598",
   "metadata": {},
   "outputs": [],
   "source": [
    "products=driver.find_element(\"xpath\",'//div/p/a')\n",
    "ram_='(//ul[@class=\"mt-2 mb-2 category-info\"])/li[1]'\n",
    "rom='(//ul[@class=\"mt-2 mb-2 category-info\"])/li[2]'\n",
    "Generation='(//ul[@class=\"mt-2 mb-2 category-info\"])/li[3]'\n",
    "Graphics_Memory='(//ul[@class=\"mt-2 mb-2 category-info\"])/li[4]'\n",
    "Processor_Type='(//ul[@class=\"mt-2 mb-2 category-info\"])/li[5]'\n",
    "Display_Size='(//ul[@class=\"mt-2 mb-2 category-info\"])/li[6]'\n",
    "price='//div/p[@class=\"pr-text cat-sp-text pb-1\"]'\n",
    "ecom_discpunt='//div/span[@class=\"fs-text\"]'"
   ]
  },
  {
   "cell_type": "code",
   "execution_count": null,
   "id": "35be9c73-0df2-46cc-8bd0-01641819b679",
   "metadata": {},
   "outputs": [],
   "source": [
    "data=[]\n",
    "driver.get(\"https://www.ryanscomputers.com/category/laptop-all-laptop\")\n",
    "products=driver.find_elements('xpath',\"//div/p/a\")\n",
    "ram_=driver.find_elements(\"xpath\",'(//ul[@class=\"mt-2 mb-2 category-info\"])/li[1]')\n",
    "rom=driver.find_elements(\"xpath\",'(//ul[@class=\"mt-2 mb-2 category-info\"])/li[2]')                              \n",
    "Generation=driver.find_elements(\"xpath\",'(//ul[@class=\"mt-2 mb-2 category-info\"])/li[3]')\n",
    "Graphics_Memory=driver.find_elements(\"xpath\",'(//ul[@class=\"mt-2 mb-2 category-info\"])/li[4]')\n",
    "Processor_Type=driver.find_elements(\"xpath\",'(//ul[@class=\"mt-2 mb-2 category-info\"])/li[5]')\n",
    "Display_Size=driver.find_elements(\"xpath\",'(//ul[@class=\"mt-2 mb-2 category-info\"])/li[6]')\n",
    "price=driver.find_elements(\"xpath\",'//div/p[@class=\"pr-text cat-sp-text pb-1\"]')\n",
    "ecom_discpunt=driver.find_elements(\"xpath\",'//div/span[@class=\"fs-text\"]')\n",
    "for product in range(19):\n",
    "    d={\n",
    "        \"title\":products[product].text,\n",
    "        \"ram_\":ram_[product].text,\n",
    "        \"Storage\":rom[product].text,\n",
    "        \"Generation\":Generation[product].text,\n",
    "        \"Graphics\":Graphics_Memory[product].text,\n",
    "        'Processor':Processor_Type[product].text,\n",
    "        'Display':Display_Size[product].text,\n",
    "        'price':ecom_discpunt[product].text,\n",
    "        'ecom_discpunt':ecom_discpunt[product].text\n",
    "        \n",
    "        \n",
    "    }\n",
    "    print(d)\n",
    "    print(\"_________\")\n",
    "    data.append(d)\n",
    "        \n"
   ]
  },
  {
   "cell_type": "code",
   "execution_count": null,
   "id": "e54e5fcf-37cb-4afa-b56a-2a910952d91b",
   "metadata": {},
   "outputs": [],
   "source": [
    "import pandas as pd\n",
    "df=pd.DataFrame(data)\n",
    "df"
   ]
  },
  {
   "cell_type": "code",
   "execution_count": 106,
   "id": "96469b59-a454-46e9-9ebc-5321e8448dbe",
   "metadata": {},
   "outputs": [],
   "source": [
    "df.to_csv(\"techland_laptop_data.csv\",index=False)"
   ]
  },
  {
   "cell_type": "code",
   "execution_count": null,
   "id": "677f83ba-db11-4f4b-ae14-1dcf9c6559e4",
   "metadata": {},
   "outputs": [],
   "source": []
  }
 ],
 "metadata": {
  "kernelspec": {
   "display_name": "Python 3 (ipykernel)",
   "language": "python",
   "name": "python3"
  },
  "language_info": {
   "codemirror_mode": {
    "name": "ipython",
    "version": 3
   },
   "file_extension": ".py",
   "mimetype": "text/x-python",
   "name": "python",
   "nbconvert_exporter": "python",
   "pygments_lexer": "ipython3",
   "version": "3.9.12"
  }
 },
 "nbformat": 4,
 "nbformat_minor": 5
}
